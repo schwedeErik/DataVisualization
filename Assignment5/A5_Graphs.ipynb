{
 "cells": [
  {
   "cell_type": "markdown",
   "metadata": {},
   "source": [
    "**Course**: Data Visualization (Prof. Dr. Heike Leitte, Luisa Vollmer, RPTU Kaiserslautern),   **Name**: XXX XXX,   **Date**: DD.MM.YYYY"
   ]
  },
  {
   "cell_type": "markdown",
   "metadata": {},
   "source": [
    "<div class=\"alert alert-info\">\n",
    "\n",
    "# Assignment 5 - Graphs\n",
    "</div>\n",
    "\n",
    "\n",
    "\n",
    "### Outline and goals\n",
    "\n",
    "In the fifth assignment, we will revise graph drawing and graph analysis using three types of graphs. You will learn about the [networkx library](https://networkx.github.io) and the [pygraphviz library](https://pygraphviz.github.io) for graph analysis and drawing. The goals of the assignment are:\n",
    "- be able to decide on an appropriate layout for a given graph and discuss aesthetics criteria\n",
    "- draw a graph in the notebook and manipulate the visualization\n",
    "- analyze a given graph algorithmicly and visually\n",
    "\n",
    "<div class=\"alert alert-danger\">\n",
    "\n",
    "**Important**: While no points will be awarded for typing the correct answers in the notebooks, it is highly advised to solve the tasks thoroughly. They are designed to be encouraging and provide you with valuable learnings for the exam, understanding of the methods and practical coding.\n",
    "</div>\n",
    "\n",
    "<div class=\"alert alert-success\">\n",
    "    \n",
    "All tasks in this notebook are marked in green.\n",
    "</div>"
   ]
  },
  {
   "cell_type": "code",
   "execution_count": null,
   "metadata": {},
   "outputs": [],
   "source": [
    "import pandas as pd\n",
    "import numpy as np\n",
    "\n",
    "import networkx as nx # there have been problems with networkx and pygraphviz on windows in the past. If possible, try a different system.\n",
    "import itertools\n",
    "from bokeh.palettes import Category20\n",
    "\n",
    "from IPython.display import Image"
   ]
  },
  {
   "cell_type": "markdown",
   "metadata": {},
   "source": [
    "<div class=\"alert alert-info\">\n",
    "\n",
    "## Exercise 1 - Graph algorithms recap\n",
    "</div>\n",
    "\n",
    "In the first exercise, you will work on a synthetic graph to practice fundamental operations and revise the concepts from the lecture. \n"
   ]
  },
  {
   "cell_type": "markdown",
   "metadata": {},
   "source": [
    "**1.1 Manual drawing**\n",
    "\n",
    "G1 below is defined as a directed graph [nx.DiGraph](https://networkx.github.io/documentation/stable/reference/classes/digraph.html). Edges are given as ordered tuples `(start_node, end_node)`.  \n",
    "\n",
    "<div class=\"alert alert-success\">\n",
    "    \n",
    "- Draw the graph defined in G1 manually (no prove required). Do not follow the rules learned in class, but create a layout to your liking.\n",
    "- Did you follow aesthetics criteria? If yes, which? Either case, which ones should be followed.\n",
    "- Which type of graph is G1?\n",
    "- Which types of layouts are applicable?\n",
    "</div>"
   ]
  },
  {
   "cell_type": "markdown",
   "metadata": {},
   "source": [
    "<div class=\"alert alert-warning\">\n",
    "\n",
    "...\n",
    "</div>"
   ]
  },
  {
   "cell_type": "code",
   "execution_count": null,
   "metadata": {},
   "outputs": [],
   "source": [
    "G1 = nx.DiGraph()\n",
    "G1.add_edges_from([(1,2), (1,3), (2,4), (3,5), (5,4), (4,6), (6,2), (5,7), (5,8), (1,8)])\n",
    "Image(nx.nx_agraph.to_agraph(G1).draw(format='png', prog='dot'))"
   ]
  },
  {
   "cell_type": "markdown",
   "metadata": {},
   "source": [
    "**1.2 Graph drawing**\n",
    "    \n",
    "The [pygraphviz library](https://pygraphviz.github.io) is used to obtain the layout. Pygraphviz is partly integrated into networkx and uses the [AGraph](http://pygraphviz.github.io/documentation/pygraphviz-1.5/reference/agraph.html) graph representation. The result image of the graph drawing routine can be exported or rendered in the notebook using the [`Image`](https://ipython.readthedocs.io/en/stable/api/generated/IPython.display.html#IPython.display.Image) class to encapsulate it.\n",
    "\n",
    "Using the graph drawing above, answer the following questions:\n",
    "\n",
    "<div class=\"alert alert-success\">\n",
    "    \n",
    "- Which layout algorithm is used to render G1? \n",
    "- Does the graph G1 contain cycles? If yes, which?\n",
    "- Why is node 2 rendered on level 3?\n",
    "- Compute the forward, backward and cross edges of G1. Children are handeled in order of their id, smallest first. The method `classify_edges` below implements the edge classification for recap.\n",
    "</div>"
   ]
  },
  {
   "cell_type": "markdown",
   "metadata": {},
   "source": [
    "<div class=\"alert alert-warning\">\n",
    "\n",
    "...\n",
    "</div>"
   ]
  },
  {
   "cell_type": "code",
   "execution_count": null,
   "metadata": {},
   "outputs": [],
   "source": [
    "def classify_edges(G):\n",
    "    '''Edge classification of a directed graph using depth first search.\n",
    "    '''\n",
    "    # nodes that have been visited in the traversal\n",
    "    marked = dict([(n,0) for n in sorted(G.nodes)])\n",
    "\n",
    "    # do depth-first-traversal and classify edges\n",
    "    # traverse edges with (start, end, edge type d)\n",
    "    for s,e,d in nx.dfs_labeled_edges(G):\n",
    "        if (s==e):\n",
    "            continue\n",
    "            \n",
    "        # mark start-node as visited\n",
    "        marked[s] = 1    \n",
    "\n",
    "        # skip return-to-child-node step in DFS\n",
    "        if  (d == 'reverse'):\n",
    "            continue\n",
    "    \n",
    "        # if end-node has not been visited yet, its a tree edge\n",
    "        if marked[e] == 0:\n",
    "            print(s,e,'tree edge')\n",
    "            marked[e] = 1\n",
    "        # end-node has been visited before\n",
    "        else:\n",
    "            # create graph without current edge\n",
    "            G_ = G.copy()\n",
    "            G_.remove_edge(s,e)\n",
    "            if e in nx.descendants(G_, s):\n",
    "                print(s,e,'forward edge')\n",
    "            elif e in nx.ancestors(G_, s):\n",
    "                print(s,e,'backward edge')\n",
    "            else:\n",
    "                print(s,e,'cross edge')\n",
    "        \n",
    "classify_edges(G1)"
   ]
  },
  {
   "cell_type": "markdown",
   "metadata": {},
   "source": [
    "<div class=\"alert alert-info\">\n",
    "\n",
    "## Exercise 2 - Working with hierarchies\n",
    "</div>\n",
    "\n",
    "The file [`programmingLanguages.gml`](programmingLanguages.gml) contains information on the genealogy of some of the more influential or widely used programming languages as discussed by (Scott, 2000). Edges indicate principal influences on design. The resulting graph encodes the flow of ideas through the languages and their paradigms. Many influences, of course, cannot be shown in a single figure, but the chart can give a good initial sense of dependencies. \n",
    "\n",
    "Note that the graph also contains a date for each language which indicates the approximate time at which its features became widely known. This information can be used for rendering but is not incorporated in the current layout."
   ]
  },
  {
   "cell_type": "code",
   "execution_count": null,
   "metadata": {},
   "outputs": [],
   "source": [
    "G2 = nx.read_gml(\"programmingLanguages.gml\")\n",
    "\n",
    "print(\"nodes in the graph\", G2.nodes(data=True))\n",
    "print()\n",
    "\n",
    "language = 'Simula'\n",
    "print(language, \"became widely known in\", G2.nodes[language]['year'])"
   ]
  },
  {
   "cell_type": "markdown",
   "metadata": {},
   "source": [
    "The chart below displays the programming languages graph. Answer the following questions and give a graphical answer by coloring respective nodes. \n",
    "    \n",
    "<div class=\"alert alert-success\">   \n",
    "    \n",
    "- **Initial languages**: Which languages were not influenced by others? \n",
    "- **Long history**: Which language has the longest history, i.e., the longest path to a source node? \n",
    "    - What is the path length? \n",
    "    - Is the answer unique?\n",
    "- **Not influenced by Fortran I**: List all languages that were not influenced by Fortran I (directly or indirectly). \n",
    "</div>\n",
    "\n",
    "**Example below**: All languages that influenced Java directly or indirectly.\n",
    "    \n",
    "**Hints**: \n",
    "- Networkx provides [methods for directed graphs](https://networkx.github.io/documentation/stable/reference/classes/digraph.html) (see Method section at bottom of page) and \n",
    "- additional [algorithms for directed acyclic graphs](https://networkx.github.io/documentation/stable/reference/algorithms/dag.html).\n",
    "- Each question can be answered with one line of code."
   ]
  },
  {
   "cell_type": "code",
   "execution_count": null,
   "metadata": {},
   "outputs": [],
   "source": [
    "A2 = nx.nx_agraph.to_agraph(G2)\n",
    "A2.node_attr['style']='filled'\n",
    "\n",
    "influences = nx.algorithms.dag.ancestors(G2,'Java')\n",
    "# TODO: insert your filters here\n",
    "\n",
    "for n_id in G2:\n",
    "    n = A2.get_node(n_id)\n",
    "    if n_id in influences:\n",
    "        n.attr['fillcolor']='yellow'\n",
    "    else:\n",
    "        n.attr['fillcolor']='white'\n",
    "    \n",
    "Image(A2.draw(format='png', prog='dot'))"
   ]
  },
  {
   "cell_type": "markdown",
   "metadata": {},
   "source": [
    "<div class=\"alert alert-warning\">\n",
    "\n",
    "...\n",
    "</div>"
   ]
  },
  {
   "cell_type": "markdown",
   "metadata": {},
   "source": [
    "<div class=\"alert alert-info\">\n",
    "\n",
    "## Exercise 3 - Analyzing social networks\n",
    "</div>\n",
    "\n",
    "In the last exercise, you will analyze social networks. Choose ***ONE*** of two datasets each representing a co-appearance network:\n",
    "- characters in the novel Les Miserables by Victor Hugo and how often they are together on stage (edges)\n",
    "- characters in fan fiction in the Harry Potter universe and a count on how often they occur together in fan fictions (edges)\n",
    "\n",
    "A critical element in the analysis are communities. A community in a graph is a set of nodes that is densely connected, i.e., many of the nodes in a community feature pairwise edges. \n",
    "\n",
    "The graphs below represent the respective co-occurences. Both graphs are drawn using the [`neato`](https://www.graphviz.org/pdf/neatoguide.pdf) algorithm of pygraphviz which uses a force-directed layout. Communitites are detected using the \n",
    "[Girvan-Newman community detection algorithm](https://networkx.github.io/documentation/stable/reference/algorithms/generated/networkx.algorithms.community.centrality.girvan_newman.html) from networkx. Each community is colored in a unique color in the graph.\n",
    "    \n",
    "For your chosen social network, answer the following questions:\n",
    "<div class=\"alert alert-success\">\n",
    "    \n",
    "- What are aesthetics criteria aimed for by force-directed layout?\n",
    "- How good are these criteria met in the graph visualization? Rate each criterion using good, medium, poor and find an area in the graph to support your rating.\n",
    "- Below you can find a list of social groups present in the novel. Check if they are detected by the automatic community detection. When do the communities based on human knowledge and graph analysis match and when not?\n",
    "- Can you detect characters that should belong to multiple communities? \n",
    "    - by exploring the graph structure and maybe from your background knowledge \n",
    "    - Advanced question: How could you visualize the affiliation with two or more communities?\n",
    "</div>"
   ]
  },
  {
   "cell_type": "markdown",
   "metadata": {},
   "source": [
    "### Les Miserables\n",
    "\n",
    "The dataset [`lesmiserables.gml`](lesmiserables.gml) contains a coappearance network of characters in the novel [Les Miserables](https://en.wikipedia.org/wiki/Les_Mis%C3%A9rables) by Victor Hugo. The [graph](lesmiserables_graph.png) is rendered using a force-directed layout and colored by a community affiliation detected using the [Girvan-Newman community detection algorithm](https://networkx.github.io/documentation/stable/reference/algorithms/generated/networkx.algorithms.community.centrality.girvan_newman.html).\n",
    "\n",
    "*Data courtesy: D. E. Knuth, The Stanford GraphBase: A Platform for Combinatorial Computing, Addison-Wesley, Reading, MA (1993).*"
   ]
  },
  {
   "cell_type": "code",
   "execution_count": null,
   "metadata": {},
   "outputs": [],
   "source": [
    "G3 = nx.read_gml(\"lesmiserables.gml\")\n",
    "A3 = nx.nx_agraph.to_agraph(G3)\n",
    "A3.node_attr['style']='filled'\n",
    "\n",
    "for e in A3.edges_iter():\n",
    "    '''Scale the line_width of the edges by the edge weight\n",
    "    '''\n",
    "    e.attr['penwidth'] = int(int(e.attr['value'])/5)*2+1\n",
    "    \n",
    "def color_communities(G,A,k=9):\n",
    "    comp = nx.algorithms.community.centrality.girvan_newman(G)\n",
    "    comm = next(itertools.islice(comp, k, None))\n",
    "    print(\"quality {:.3f}\".format(nx.algorithms.community.partition_quality(G,comm)[1]), \"with\", len(comm), \"communities.\")\n",
    "\n",
    "    def color_nodes(A, communities):\n",
    "        '''Color the nodes of an AGraph based on a given community structure\n",
    "        '''\n",
    "        for ids,c in zip(list(sorted(c) for c in communities), Category20[20]):\n",
    "            for i in ids:\n",
    "                n = A.get_node(i)\n",
    "                n.attr['fillcolor']=c\n",
    "\n",
    "    color_nodes(A, comm)\n",
    "    \n",
    "color_communities(G3, A3, 9)"
   ]
  },
  {
   "cell_type": "markdown",
   "metadata": {},
   "source": [
    "A [list of characters](https://en.wikipedia.org/wiki/List_of_Les_Misérables_characters) can be found on wikipedia.\n",
    "\n",
    "Communitites in Les Miserables in order of appearance:\n",
    "- **Main characters**: Valjean, Cosette, Marius\n",
    "- **People in church**: Myriel, MlleBaptistine, MmeMagloire\n",
    "- **Grisettes (working women)**: Fantine, Zephine, Dahlia, Favourite\n",
    "- **Wealthy students**: Blacheville, Tholomyes, Listolier, Fameuil\n",
    "- **Bandits + (family)**: MmeThenardier, Thenardier, (Cosette), (Gavroche), Eponine, Anzelma, Montparnasse, Claquesous, Babet, Gueulemer, Brujon\n",
    "- **Police and court**: Javert, Bamatabois, Champmathieu\n",
    "- **Rich monarchists**: Gillenormand, MlleGillenormand, MmePontmercy, LtGillenormand\n",
    "- **Revolutionary student club**: Marius, Enjolras, Combeferre, Prouvaire, Feuilly, Courfeyrac, Bahorel, Bossuet, Joly, Grantaire\n",
    "- **Brothers**: Gavroche, Child1, Child2"
   ]
  },
  {
   "cell_type": "code",
   "execution_count": null,
   "metadata": {},
   "outputs": [],
   "source": [
    "# Show image in notebook\n",
    "Image(A3.draw(format='png', prog='neato', args=\"-Goverlap=scale -Gsize=10,15 -Gepsilon=.001 -Gmaxiter=50\"))\n",
    "\n",
    "# Export image\n",
    "# A3.draw('lesmiserables_graph.png', format='png', prog='neato', args=\"-Goverlap=scale -Gsize=50,50 -Gepsilon=.001 -Gmaxiter=50\")\n",
    "\n",
    "# You can control the size of the image with the graph parameter -Gsize"
   ]
  },
  {
   "cell_type": "markdown",
   "metadata": {},
   "source": [
    "<div class=\"alert alert-warning\">\n",
    "\n",
    "...\n",
    "</div>"
   ]
  },
  {
   "cell_type": "markdown",
   "metadata": {},
   "source": [
    "### Harrry Potter fan fiction\n",
    "\n",
    "The Harry Potter fan fiction dataset contains a co-appearance network of characters in the Harry Potter fan fiction universe. The [graph is rendered](harrypotter_graph.png) using a force-directed layout and colored by a community affiliation detected using the [Girvan-Newman community detection algorithm](https://networkx.github.io/documentation/stable/reference/algorithms/generated/networkx.algorithms.community.centrality.girvan_newman.html).\n",
    "\n",
    "*Data source: https://gist.github.com/allisonking/c9f6ea277e4194cf7e13f49efb83b5b5*\n",
    "\n",
    "**Preprocessing**:\n",
    "\n",
    "Load the Harry Potter fan fiction co-occurence data and turn this into a list of co-occurences."
   ]
  },
  {
   "cell_type": "code",
   "execution_count": null,
   "metadata": {},
   "outputs": [],
   "source": [
    "harry_potter = pd.read_csv('HarryPotter_cooccurrence.txt')\n",
    "\n",
    "# get the upper triangular matrix and turn into a list\n",
    "harry_potter = harry_potter.where(np.triu(np.ones(harry_potter.shape), k=1).astype(bool)).stack().reset_index()\n",
    "# rename the columns\n",
    "harry_potter.columns = ['A','B','cnt']\n",
    "# filter character pairs that co-occur at least 300 times\n",
    "harry_potter = harry_potter[harry_potter.cnt >= 300].reset_index(drop=True)"
   ]
  },
  {
   "cell_type": "markdown",
   "metadata": {},
   "source": [
    "Create a graph from the input data."
   ]
  },
  {
   "cell_type": "code",
   "execution_count": null,
   "metadata": {},
   "outputs": [],
   "source": [
    "G4 = nx.Graph()\n",
    "\n",
    "r = harry_potter.apply(lambda x: G4.add_edge(x.A, x.B, weight=x.cnt), axis=1)\n",
    "\n",
    "# remove the meta group of original characters (OC)\n",
    "G4.remove_node('OC')\n",
    "\n",
    "A4 = nx.nx_agraph.to_agraph(G4)\n",
    "A4.node_attr['style']='filled'\n",
    "\n",
    "for e in A4.edges_iter():\n",
    "    '''Scale the line_width of the edges by the edge weight\n",
    "    '''\n",
    "    e.attr['penwidth'] = min(10000,float(e.attr['weight']))/1000+1\n",
    "\n",
    "def color_communities(G,A,k=11):\n",
    "    comp = nx.algorithms.community.centrality.girvan_newman(G)\n",
    "    comm = next(itertools.islice(comp, k, None))\n",
    "    print(\"quality {:.3f}\".format(nx.algorithms.community.partition_quality(G,comm)[1]), \"with\", len(comm), \"communities.\")\n",
    "\n",
    "    def color_nodes(A, communities):\n",
    "        '''Color the nodes of an AGraph based on a given community structure\n",
    "        '''\n",
    "        for ids,c in zip(list(sorted(c) for c in communities), Category20[20]):\n",
    "            for i in ids:\n",
    "                n = A.get_node(i)\n",
    "                n.attr['fillcolor']=c\n",
    "\n",
    "    color_nodes(A, comm)\n",
    "    \n",
    "color_communities(G4, A4, 11)"
   ]
  },
  {
   "cell_type": "markdown",
   "metadata": {},
   "source": [
    "Communitites in the Harry Potter universe:\n",
    "- **Students**: Harry P., Ron W., Hermione G., Ginny W., Draco M., Neville L., Luna L., Pansy P., Blaise Z., Cedric D., Cho C.\n",
    "- **Senior students**: Katie B., Oliver W., Percy W., George W., Fred W.\n",
    "- **Teachers**: Albus D., Severus S., Minerva M.\n",
    "- **Death Eaters**: Voldemort, Tom R. Jr., Lucius M., Narcissa M., Bellatrix L.\n",
    "- **Marauders**: Marauders, James P., Sirius B., Remus L., Peter P. \n",
    "- **Next generation kids**: Lily Luna P., James S. P., Albus S. P., Rose L., Teddy L., Scorpius M., Victoire W.\n",
    "\n",
    "Additional communities\n",
    "- the various families: Potter, Weasly, Malfoy, Black, Tonks, Lestrange, ...\n",
    "- Order of the Phoenix\n",
    "- school houses and school teams"
   ]
  },
  {
   "cell_type": "code",
   "execution_count": null,
   "metadata": {},
   "outputs": [],
   "source": [
    "# Show image in notebook\n",
    "Image(A4.draw(format='png', prog='neato', args=\"-Goverlap=scale -Gsize=15,15 -Gepsilon=.001 -Gmaxiter=50\"))\n",
    "\n",
    "# Export image\n",
    "# A4.draw('harrypotter_graph.png', format='png', prog='neato', args=\"-Goverlap=scale -Gsize=50,50 -Gepsilon=.001 -Gmaxiter=50\")\n",
    "\n",
    "# You can control the size of the image with the graph parameter -Gsize"
   ]
  },
  {
   "cell_type": "markdown",
   "metadata": {},
   "source": [
    "<div class=\"alert alert-warning\">\n",
    "\n",
    "...\n",
    "</div>"
   ]
  },
  {
   "cell_type": "markdown",
   "metadata": {},
   "source": [
    "### Estimate good number of communities in graph\n",
    "\n",
    "First do the community detection for the parameters (0,k):"
   ]
  },
  {
   "cell_type": "code",
   "execution_count": null,
   "metadata": {},
   "outputs": [],
   "source": [
    "k=30\n",
    "G = G4\n",
    "\n",
    "comp = nx.algorithms.community.centrality.girvan_newman(G)\n",
    "limited = itertools.takewhile(lambda c: len(c) <= k, comp)\n",
    "ks = []\n",
    "qs = []\n",
    "for i,communities in enumerate(limited):\n",
    "    ks.append(i)\n",
    "    qs.append(nx.algorithms.community.partition_quality(G,communities)[1])"
   ]
  },
  {
   "cell_type": "markdown",
   "metadata": {},
   "source": [
    "<div class=\"alert alert-success\">\n",
    "    \n",
    "Plot these values and look for the \"knee\" or \"elbow\" in the function, i.e., the value where the curve \"bends\" and additional communities have little quality increase. \n",
    "    \n",
    "</div>"
   ]
  },
  {
   "cell_type": "markdown",
   "metadata": {},
   "source": [
    "<div class=\"alert alert-warning\">\n",
    "    \n",
    "For **Les Miserables** good values are ... and for **Harry Potter** ...\n",
    "</div>"
   ]
  },
  {
   "cell_type": "code",
   "execution_count": null,
   "metadata": {},
   "outputs": [],
   "source": [
    "from bokeh.plotting import figure, output_notebook, show\n",
    "\n",
    "output_notebook()\n",
    "\n",
    "p = figure(width=400, height=400, title=\"Quality of GN-Community Measure in Harry Potter\")\n",
    "\n",
    "# add a line renderer\n",
    "p.line(ks, qs, line_width=2)\n",
    "p.xaxis.axis_label = 'Girvan Newman splitting parameter'\n",
    "p.yaxis.axis_label = 'quality'\n",
    "\n",
    "show(p)"
   ]
  },
  {
   "cell_type": "code",
   "execution_count": null,
   "metadata": {},
   "outputs": [],
   "source": []
  }
 ],
 "metadata": {
  "kernelspec": {
   "display_name": "Python 3 (ipykernel)",
   "language": "python",
   "name": "python3"
  },
  "language_info": {
   "codemirror_mode": {
    "name": "ipython",
    "version": 3
   },
   "file_extension": ".py",
   "mimetype": "text/x-python",
   "name": "python",
   "nbconvert_exporter": "python",
   "pygments_lexer": "ipython3",
   "version": "3.10.13"
  }
 },
 "nbformat": 4,
 "nbformat_minor": 4
}
