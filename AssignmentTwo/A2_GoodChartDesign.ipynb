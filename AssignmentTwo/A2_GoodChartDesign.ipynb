{
 "cells": [
  {
   "cell_type": "markdown",
   "metadata": {},
   "source": [
    "**Course**: Data Visualization (Prof. Dr. Heike Leitte, Luisa Vollmer, RPTU Kaiserslautern),   **Name**: XXX XXX,   **Date**: DD.MM.YYYY"
   ]
  },
  {
   "cell_type": "markdown",
   "metadata": {},
   "source": [
    "<div class=\"alert alert-info\">\n",
    "    \n",
    "# Assignment 2 - Good Chart Design\n",
    "</div>\n",
    "\n",
    "The **goals** of the second assignment are:\n",
    "- Practice visualization design critiques using a given visualization.\n",
    "- Decompose a given chart into its components and analyze their design.\n",
    "- Practice visual encoding theory by detecting marks and channels.\n",
    "- Design an information rich chart.\n",
    "\n",
    "To achieve these goals, your task is to analyze, critique, and revise a given visualization that depicts the received and handled tickets (technical issues).\n",
    "\n",
    "<div class=\"alert alert-danger\">\n",
    "\n",
    "**Important**: While no points will be awarded for typing the correct answers in the notebooks, it is highly advised to solve the tasks thoroughly. They are designed to be encouraging and provide you with valuable learnings for the exam, understanding of the methods and practical coding.\n",
    "</div>\n",
    "\n",
    "<div class=\"alert alert-success\">\n",
    "    \n",
    "All tasks in this notebook are marked in green.\n",
    "</div>"
   ]
  },
  {
   "cell_type": "markdown",
   "metadata": {},
   "source": [
    "<div class=\"alert alert-info\">\n",
    "\n",
    "## 1. Scenario and Starter Code\n",
    "</div>\n",
    "\n",
    "Imagine that you manage an information technology (IT) team. Your team receives tickets, or technical issues, from employees. In the past year, you've had two team members leave and decided at the time not to replace them. You have heard a rumbling of complaints from the remaining employees about having to \"pick up the slack\". You've just been asked about your hiring needs for the coming year and are wondering if you should hire a couple more people. First, you want to understand what impact the departure of individuals over the past year has had on your team's overall productivity. You plot the monthly trend of incoming tickets and those processed over the past calender year. You see that there is some evidence your team's productivity is suffering from being short-staffed and now want to turn the quick-and-dirty visual you created into the basis for your hiring request.\n",
    "\n",
    "Below is the code and chart of the initial ticket visualization. Read through the code and make sure that you understand it. "
   ]
  },
  {
   "cell_type": "code",
   "execution_count": 82,
   "metadata": {},
   "outputs": [
    {
     "data": {
      "text/html": [
       "<style>\n",
       "        .bk-notebook-logo {\n",
       "            display: block;\n",
       "            width: 20px;\n",
       "            height: 20px;\n",
       "            background-image: url(data:image/png;base64,iVBORw0KGgoAAAANSUhEUgAAABQAAAAUCAYAAACNiR0NAAAABHNCSVQICAgIfAhkiAAAAAlwSFlzAAALEgAACxIB0t1+/AAAABx0RVh0U29mdHdhcmUAQWRvYmUgRmlyZXdvcmtzIENTNui8sowAAAOkSURBVDiNjZRtaJVlGMd/1/08zzln5zjP1LWcU9N0NkN8m2CYjpgQYQXqSs0I84OLIC0hkEKoPtiH3gmKoiJDU7QpLgoLjLIQCpEsNJ1vqUOdO7ppbuec5+V+rj4ctwzd8IIbbi6u+8f1539dt3A78eXC7QizUF7gyV1fD1Yqg4JWz84yffhm0qkFqBogB9rM8tZdtwVsPUhWhGcFJngGeWrPzHm5oaMmkfEg1usvLFyc8jLRqDOMru7AyC8saQr7GG7f5fvDeH7Ej8CM66nIF+8yngt6HWaKh7k49Soy9nXurCi1o3qUbS3zWfrYeQDTB/Qj6kX6Ybhw4B+bOYoLKCC9H3Nu/leUTZ1JdRWkkn2ldcCamzrcf47KKXdAJllSlxAOkRgyHsGC/zRday5Qld9DyoM4/q/rUoy/CXh3jzOu3bHUVZeU+DEn8FInkPBFlu3+nW3Nw0mk6vCDiWg8CeJaxEwuHS3+z5RgY+YBR6V1Z1nxSOfoaPa4LASWxxdNp+VWTk7+4vzaou8v8PN+xo+KY2xsw6une2frhw05CTYOmQvsEhjhWjn0bmXPjpE1+kplmmkP3suftwTubK9Vq22qKmrBhpY4jvd5afdRA3wGjFAgcnTK2s4hY0/GPNIb0nErGMCRxWOOX64Z8RAC4oCXdklmEvcL8o0BfkNK4lUg9HTl+oPlQxdNo3Mg4Nv175e/1LDGzZen30MEjRUtmXSfiTVu1kK8W4txyV6BMKlbgk3lMwYCiusNy9fVfvvwMxv8Ynl6vxoByANLTWplvuj/nF9m2+PDtt1eiHPBr1oIfhCChQMBw6Aw0UulqTKZdfVvfG7VcfIqLG9bcldL/+pdWTLxLUy8Qq38heUIjh4XlzZxzQm19lLFlr8vdQ97rjZVOLf8nclzckbcD4wxXMidpX30sFd37Fv/GtwwhzhxGVAprjbg0gCAEeIgwCZyTV2Z1REEW8O4py0wsjeloKoMr6iCY6dP92H6Vw/oTyICIthibxjm/DfN9lVz8IqtqKYLUXfoKVMVQVVJOElGjrnnUt9T9wbgp8AyYKaGlqingHZU/uG2NTZSVqwHQTWkx9hxjkpWDaCg6Ckj5qebgBVbT3V3NNXMSiWSDdGV3hrtzla7J+duwPOToIg42ChPQOQjspnSlp1V+Gjdged7+8UN5CRAV7a5EdFNwCjEaBR27b3W890TE7g24NAP/mMDXRWrGoFPQI9ls/MWO2dWFAar/xcOIImbbpA3zgAAAABJRU5ErkJggg==);\n",
       "        }\n",
       "    </style>\n",
       "    <div>\n",
       "        <a href=\"https://bokeh.org\" target=\"_blank\" class=\"bk-notebook-logo\"></a>\n",
       "        <span id=\"d82f8635-46bd-4e09-92c0-e53679a90282\">Loading BokehJS ...</span>\n",
       "    </div>\n"
      ]
     },
     "metadata": {},
     "output_type": "display_data"
    },
    {
     "data": {
      "application/javascript": "(function(root) {\n  function now() {\n    return new Date();\n  }\n\n  const force = true;\n\n  if (typeof root._bokeh_onload_callbacks === \"undefined\" || force === true) {\n    root._bokeh_onload_callbacks = [];\n    root._bokeh_is_loading = undefined;\n  }\n\nconst JS_MIME_TYPE = 'application/javascript';\n  const HTML_MIME_TYPE = 'text/html';\n  const EXEC_MIME_TYPE = 'application/vnd.bokehjs_exec.v0+json';\n  const CLASS_NAME = 'output_bokeh rendered_html';\n\n  /**\n   * Render data to the DOM node\n   */\n  function render(props, node) {\n    const script = document.createElement(\"script\");\n    node.appendChild(script);\n  }\n\n  /**\n   * Handle when an output is cleared or removed\n   */\n  function handleClearOutput(event, handle) {\n    const cell = handle.cell;\n\n    const id = cell.output_area._bokeh_element_id;\n    const server_id = cell.output_area._bokeh_server_id;\n    // Clean up Bokeh references\n    if (id != null && id in Bokeh.index) {\n      Bokeh.index[id].model.document.clear();\n      delete Bokeh.index[id];\n    }\n\n    if (server_id !== undefined) {\n      // Clean up Bokeh references\n      const cmd_clean = \"from bokeh.io.state import curstate; print(curstate().uuid_to_server['\" + server_id + \"'].get_sessions()[0].document.roots[0]._id)\";\n      cell.notebook.kernel.execute(cmd_clean, {\n        iopub: {\n          output: function(msg) {\n            const id = msg.content.text.trim();\n            if (id in Bokeh.index) {\n              Bokeh.index[id].model.document.clear();\n              delete Bokeh.index[id];\n            }\n          }\n        }\n      });\n      // Destroy server and session\n      const cmd_destroy = \"import bokeh.io.notebook as ion; ion.destroy_server('\" + server_id + \"')\";\n      cell.notebook.kernel.execute(cmd_destroy);\n    }\n  }\n\n  /**\n   * Handle when a new output is added\n   */\n  function handleAddOutput(event, handle) {\n    const output_area = handle.output_area;\n    const output = handle.output;\n\n    // limit handleAddOutput to display_data with EXEC_MIME_TYPE content only\n    if ((output.output_type != \"display_data\") || (!Object.prototype.hasOwnProperty.call(output.data, EXEC_MIME_TYPE))) {\n      return\n    }\n\n    const toinsert = output_area.element.find(\".\" + CLASS_NAME.split(' ')[0]);\n\n    if (output.metadata[EXEC_MIME_TYPE][\"id\"] !== undefined) {\n      toinsert[toinsert.length - 1].firstChild.textContent = output.data[JS_MIME_TYPE];\n      // store reference to embed id on output_area\n      output_area._bokeh_element_id = output.metadata[EXEC_MIME_TYPE][\"id\"];\n    }\n    if (output.metadata[EXEC_MIME_TYPE][\"server_id\"] !== undefined) {\n      const bk_div = document.createElement(\"div\");\n      bk_div.innerHTML = output.data[HTML_MIME_TYPE];\n      const script_attrs = bk_div.children[0].attributes;\n      for (let i = 0; i < script_attrs.length; i++) {\n        toinsert[toinsert.length - 1].firstChild.setAttribute(script_attrs[i].name, script_attrs[i].value);\n        toinsert[toinsert.length - 1].firstChild.textContent = bk_div.children[0].textContent\n      }\n      // store reference to server id on output_area\n      output_area._bokeh_server_id = output.metadata[EXEC_MIME_TYPE][\"server_id\"];\n    }\n  }\n\n  function register_renderer(events, OutputArea) {\n\n    function append_mime(data, metadata, element) {\n      // create a DOM node to render to\n      const toinsert = this.create_output_subarea(\n        metadata,\n        CLASS_NAME,\n        EXEC_MIME_TYPE\n      );\n      this.keyboard_manager.register_events(toinsert);\n      // Render to node\n      const props = {data: data, metadata: metadata[EXEC_MIME_TYPE]};\n      render(props, toinsert[toinsert.length - 1]);\n      element.append(toinsert);\n      return toinsert\n    }\n\n    /* Handle when an output is cleared or removed */\n    events.on('clear_output.CodeCell', handleClearOutput);\n    events.on('delete.Cell', handleClearOutput);\n\n    /* Handle when a new output is added */\n    events.on('output_added.OutputArea', handleAddOutput);\n\n    /**\n     * Register the mime type and append_mime function with output_area\n     */\n    OutputArea.prototype.register_mime_type(EXEC_MIME_TYPE, append_mime, {\n      /* Is output safe? */\n      safe: true,\n      /* Index of renderer in `output_area.display_order` */\n      index: 0\n    });\n  }\n\n  // register the mime type if in Jupyter Notebook environment and previously unregistered\n  if (root.Jupyter !== undefined) {\n    const events = require('base/js/events');\n    const OutputArea = require('notebook/js/outputarea').OutputArea;\n\n    if (OutputArea.prototype.mime_types().indexOf(EXEC_MIME_TYPE) == -1) {\n      register_renderer(events, OutputArea);\n    }\n  }\n  if (typeof (root._bokeh_timeout) === \"undefined\" || force === true) {\n    root._bokeh_timeout = Date.now() + 5000;\n    root._bokeh_failed_load = false;\n  }\n\n  const NB_LOAD_WARNING = {'data': {'text/html':\n     \"<div style='background-color: #fdd'>\\n\"+\n     \"<p>\\n\"+\n     \"BokehJS does not appear to have successfully loaded. If loading BokehJS from CDN, this \\n\"+\n     \"may be due to a slow or bad network connection. Possible fixes:\\n\"+\n     \"</p>\\n\"+\n     \"<ul>\\n\"+\n     \"<li>re-rerun `output_notebook()` to attempt to load from CDN again, or</li>\\n\"+\n     \"<li>use INLINE resources instead, as so:</li>\\n\"+\n     \"</ul>\\n\"+\n     \"<code>\\n\"+\n     \"from bokeh.resources import INLINE\\n\"+\n     \"output_notebook(resources=INLINE)\\n\"+\n     \"</code>\\n\"+\n     \"</div>\"}};\n\n  function display_loaded() {\n    const el = document.getElementById(\"d82f8635-46bd-4e09-92c0-e53679a90282\");\n    if (el != null) {\n      el.textContent = \"BokehJS is loading...\";\n    }\n    if (root.Bokeh !== undefined) {\n      if (el != null) {\n        el.textContent = \"BokehJS \" + root.Bokeh.version + \" successfully loaded.\";\n      }\n    } else if (Date.now() < root._bokeh_timeout) {\n      setTimeout(display_loaded, 100)\n    }\n  }\n\n  function run_callbacks() {\n    try {\n      root._bokeh_onload_callbacks.forEach(function(callback) {\n        if (callback != null)\n          callback();\n      });\n    } finally {\n      delete root._bokeh_onload_callbacks\n    }\n    console.debug(\"Bokeh: all callbacks have finished\");\n  }\n\n  function load_libs(css_urls, js_urls, callback) {\n    if (css_urls == null) css_urls = [];\n    if (js_urls == null) js_urls = [];\n\n    root._bokeh_onload_callbacks.push(callback);\n    if (root._bokeh_is_loading > 0) {\n      console.debug(\"Bokeh: BokehJS is being loaded, scheduling callback at\", now());\n      return null;\n    }\n    if (js_urls == null || js_urls.length === 0) {\n      run_callbacks();\n      return null;\n    }\n    console.debug(\"Bokeh: BokehJS not loaded, scheduling load and callback at\", now());\n    root._bokeh_is_loading = css_urls.length + js_urls.length;\n\n    function on_load() {\n      root._bokeh_is_loading--;\n      if (root._bokeh_is_loading === 0) {\n        console.debug(\"Bokeh: all BokehJS libraries/stylesheets loaded\");\n        run_callbacks()\n      }\n    }\n\n    function on_error(url) {\n      console.error(\"failed to load \" + url);\n    }\n\n    for (let i = 0; i < css_urls.length; i++) {\n      const url = css_urls[i];\n      const element = document.createElement(\"link\");\n      element.onload = on_load;\n      element.onerror = on_error.bind(null, url);\n      element.rel = \"stylesheet\";\n      element.type = \"text/css\";\n      element.href = url;\n      console.debug(\"Bokeh: injecting link tag for BokehJS stylesheet: \", url);\n      document.body.appendChild(element);\n    }\n\n    for (let i = 0; i < js_urls.length; i++) {\n      const url = js_urls[i];\n      const element = document.createElement('script');\n      element.onload = on_load;\n      element.onerror = on_error.bind(null, url);\n      element.async = false;\n      element.src = url;\n      console.debug(\"Bokeh: injecting script tag for BokehJS library: \", url);\n      document.head.appendChild(element);\n    }\n  };\n\n  function inject_raw_css(css) {\n    const element = document.createElement(\"style\");\n    element.appendChild(document.createTextNode(css));\n    document.body.appendChild(element);\n  }\n\n  const js_urls = [\"https://cdn.bokeh.org/bokeh/release/bokeh-3.2.1.min.js\", \"https://cdn.bokeh.org/bokeh/release/bokeh-gl-3.2.1.min.js\", \"https://cdn.bokeh.org/bokeh/release/bokeh-widgets-3.2.1.min.js\", \"https://cdn.bokeh.org/bokeh/release/bokeh-tables-3.2.1.min.js\", \"https://cdn.bokeh.org/bokeh/release/bokeh-mathjax-3.2.1.min.js\"];\n  const css_urls = [];\n\n  const inline_js = [    function(Bokeh) {\n      Bokeh.set_log_level(\"info\");\n    },\nfunction(Bokeh) {\n    }\n  ];\n\n  function run_inline_js() {\n    if (root.Bokeh !== undefined || force === true) {\n          for (let i = 0; i < inline_js.length; i++) {\n      inline_js[i].call(root, root.Bokeh);\n    }\nif (force === true) {\n        display_loaded();\n      }} else if (Date.now() < root._bokeh_timeout) {\n      setTimeout(run_inline_js, 100);\n    } else if (!root._bokeh_failed_load) {\n      console.log(\"Bokeh: BokehJS failed to load within specified timeout.\");\n      root._bokeh_failed_load = true;\n    } else if (force !== true) {\n      const cell = $(document.getElementById(\"d82f8635-46bd-4e09-92c0-e53679a90282\")).parents('.cell').data().cell;\n      cell.output_area.append_execute_result(NB_LOAD_WARNING)\n    }\n  }\n\n  if (root._bokeh_is_loading === 0) {\n    console.debug(\"Bokeh: BokehJS loaded, going straight to plotting\");\n    run_inline_js();\n  } else {\n    load_libs(css_urls, js_urls, function() {\n      console.debug(\"Bokeh: BokehJS plotting callback run at\", now());\n      run_inline_js();\n    });\n  }\n}(window));",
      "application/vnd.bokehjs_load.v0+json": ""
     },
     "metadata": {},
     "output_type": "display_data"
    }
   ],
   "source": [
    "import pandas as pd\n",
    "\n",
    "from bokeh.plotting import figure, output_notebook, show\n",
    "from bokeh.models import ColumnDataSource, LabelSet, PrintfTickFormatter, DatetimeTickFormatter, Label\n",
    "from bokeh.models.tickers import MonthsTicker\n",
    "from bokeh.transform import dodge\n",
    "import datetime\n",
    "output_notebook()"
   ]
  },
  {
   "cell_type": "code",
   "execution_count": 129,
   "metadata": {},
   "outputs": [],
   "source": [
    "month = [i for i in range(1,13)]\n",
    "received = [160,184,241,149,180,161,132,202,160,139,149,177]\n",
    "processed = [160,184,237,148,181,150,123,156,126,121,124,140]\n",
    "\n",
    "\n",
    "\n",
    "df = pd.DataFrame({'month': month, \n",
    "                   'received': received, \n",
    "                   'processed': processed})"
   ]
  },
  {
   "cell_type": "code",
   "execution_count": 131,
   "metadata": {},
   "outputs": [
    {
     "data": {
      "text/html": [
       "\n",
       "  <div id=\"b4c49221-f7e5-4f62-bd5a-f601acc11482\" data-root-id=\"p7147\" style=\"display: contents;\"></div>\n"
      ]
     },
     "metadata": {},
     "output_type": "display_data"
    },
    {
     "data": {
      "application/javascript": "(function(root) {\n  function embed_document(root) {\n  const docs_json = {\"aba2dd2c-a9ff-42a9-8dc7-04525dfbd698\":{\"version\":\"3.2.1\",\"title\":\"Bokeh Application\",\"roots\":[{\"type\":\"object\",\"name\":\"Figure\",\"id\":\"p7147\",\"attributes\":{\"height\":400,\"x_range\":{\"type\":\"object\",\"name\":\"DataRange1d\",\"id\":\"p7148\"},\"y_range\":{\"type\":\"object\",\"name\":\"DataRange1d\",\"id\":\"p7149\"},\"x_scale\":{\"type\":\"object\",\"name\":\"LinearScale\",\"id\":\"p7157\"},\"y_scale\":{\"type\":\"object\",\"name\":\"LinearScale\",\"id\":\"p7158\"},\"title\":{\"type\":\"object\",\"name\":\"Title\",\"id\":\"p7150\",\"attributes\":{\"text\":\"TICKET TREND\"}},\"renderers\":[{\"type\":\"object\",\"name\":\"GlyphRenderer\",\"id\":\"p7186\",\"attributes\":{\"data_source\":{\"type\":\"object\",\"name\":\"ColumnDataSource\",\"id\":\"p7177\",\"attributes\":{\"selected\":{\"type\":\"object\",\"name\":\"Selection\",\"id\":\"p7178\",\"attributes\":{\"indices\":[],\"line_indices\":[]}},\"selection_policy\":{\"type\":\"object\",\"name\":\"UnionRenderers\",\"id\":\"p7179\"},\"data\":{\"type\":\"map\",\"entries\":[[\"index\",{\"type\":\"ndarray\",\"array\":{\"type\":\"bytes\",\"data\":\"AAAAAAEAAAACAAAAAwAAAAQAAAAFAAAABgAAAAcAAAAIAAAACQAAAAoAAAALAAAA\"},\"shape\":[12],\"dtype\":\"int32\",\"order\":\"little\"}],[\"month\",{\"type\":\"ndarray\",\"array\":{\"type\":\"bytes\",\"data\":\"AQAAAAIAAAADAAAABAAAAAUAAAAGAAAABwAAAAgAAAAJAAAACgAAAAsAAAAMAAAA\"},\"shape\":[12],\"dtype\":\"int32\",\"order\":\"little\"}],[\"received\",{\"type\":\"ndarray\",\"array\":{\"type\":\"bytes\",\"data\":\"oAAAALgAAADxAAAAlQAAALQAAAChAAAAhAAAAMoAAACgAAAAiwAAAJUAAACxAAAA\"},\"shape\":[12],\"dtype\":\"int32\",\"order\":\"little\"}],[\"processed\",{\"type\":\"ndarray\",\"array\":{\"type\":\"bytes\",\"data\":\"oAAAALgAAADtAAAAlAAAALUAAACWAAAAewAAAJwAAAB+AAAAeQAAAHwAAACMAAAA\"},\"shape\":[12],\"dtype\":\"int32\",\"order\":\"little\"}]]}}},\"view\":{\"type\":\"object\",\"name\":\"CDSView\",\"id\":\"p7187\",\"attributes\":{\"filter\":{\"type\":\"object\",\"name\":\"AllIndices\",\"id\":\"p7188\"}}},\"glyph\":{\"type\":\"object\",\"name\":\"VBar\",\"id\":\"p7183\",\"attributes\":{\"x\":{\"type\":\"field\",\"field\":\"month\",\"transform\":{\"type\":\"object\",\"name\":\"Dodge\",\"id\":\"p7176\",\"attributes\":{\"value\":-0.175,\"range\":{\"id\":\"p7148\"}}}},\"width\":{\"type\":\"value\",\"value\":0.3},\"top\":{\"type\":\"field\",\"field\":\"received\"},\"line_color\":{\"type\":\"value\",\"value\":\"#1f77b4\"},\"fill_color\":{\"type\":\"value\",\"value\":\"#1f77b4\"}}},\"nonselection_glyph\":{\"type\":\"object\",\"name\":\"VBar\",\"id\":\"p7184\",\"attributes\":{\"x\":{\"type\":\"field\",\"field\":\"month\",\"transform\":{\"id\":\"p7176\"}},\"width\":{\"type\":\"value\",\"value\":0.3},\"top\":{\"type\":\"field\",\"field\":\"received\"},\"line_color\":{\"type\":\"value\",\"value\":\"#1f77b4\"},\"line_alpha\":{\"type\":\"value\",\"value\":0.1},\"fill_color\":{\"type\":\"value\",\"value\":\"#1f77b4\"},\"fill_alpha\":{\"type\":\"value\",\"value\":0.1},\"hatch_alpha\":{\"type\":\"value\",\"value\":0.1}}},\"muted_glyph\":{\"type\":\"object\",\"name\":\"VBar\",\"id\":\"p7185\",\"attributes\":{\"x\":{\"type\":\"field\",\"field\":\"month\",\"transform\":{\"id\":\"p7176\"}},\"width\":{\"type\":\"value\",\"value\":0.3},\"top\":{\"type\":\"field\",\"field\":\"received\"},\"line_color\":{\"type\":\"value\",\"value\":\"#1f77b4\"},\"line_alpha\":{\"type\":\"value\",\"value\":0.2},\"fill_color\":{\"type\":\"value\",\"value\":\"#1f77b4\"},\"fill_alpha\":{\"type\":\"value\",\"value\":0.2},\"hatch_alpha\":{\"type\":\"value\",\"value\":0.2}}}}},{\"type\":\"object\",\"name\":\"GlyphRenderer\",\"id\":\"p7201\",\"attributes\":{\"data_source\":{\"type\":\"object\",\"name\":\"ColumnDataSource\",\"id\":\"p7192\",\"attributes\":{\"selected\":{\"type\":\"object\",\"name\":\"Selection\",\"id\":\"p7193\",\"attributes\":{\"indices\":[],\"line_indices\":[]}},\"selection_policy\":{\"type\":\"object\",\"name\":\"UnionRenderers\",\"id\":\"p7194\"},\"data\":{\"type\":\"map\",\"entries\":[[\"index\",{\"type\":\"ndarray\",\"array\":{\"type\":\"bytes\",\"data\":\"AAAAAAEAAAACAAAAAwAAAAQAAAAFAAAABgAAAAcAAAAIAAAACQAAAAoAAAALAAAA\"},\"shape\":[12],\"dtype\":\"int32\",\"order\":\"little\"}],[\"month\",{\"type\":\"ndarray\",\"array\":{\"type\":\"bytes\",\"data\":\"AQAAAAIAAAADAAAABAAAAAUAAAAGAAAABwAAAAgAAAAJAAAACgAAAAsAAAAMAAAA\"},\"shape\":[12],\"dtype\":\"int32\",\"order\":\"little\"}],[\"received\",{\"type\":\"ndarray\",\"array\":{\"type\":\"bytes\",\"data\":\"oAAAALgAAADxAAAAlQAAALQAAAChAAAAhAAAAMoAAACgAAAAiwAAAJUAAACxAAAA\"},\"shape\":[12],\"dtype\":\"int32\",\"order\":\"little\"}],[\"processed\",{\"type\":\"ndarray\",\"array\":{\"type\":\"bytes\",\"data\":\"oAAAALgAAADtAAAAlAAAALUAAACWAAAAewAAAJwAAAB+AAAAeQAAAHwAAACMAAAA\"},\"shape\":[12],\"dtype\":\"int32\",\"order\":\"little\"}]]}}},\"view\":{\"type\":\"object\",\"name\":\"CDSView\",\"id\":\"p7202\",\"attributes\":{\"filter\":{\"type\":\"object\",\"name\":\"AllIndices\",\"id\":\"p7203\"}}},\"glyph\":{\"type\":\"object\",\"name\":\"VBar\",\"id\":\"p7198\",\"attributes\":{\"x\":{\"type\":\"field\",\"field\":\"month\",\"transform\":{\"type\":\"object\",\"name\":\"Dodge\",\"id\":\"p7191\",\"attributes\":{\"value\":0.175,\"range\":{\"id\":\"p7148\"}}}},\"width\":{\"type\":\"value\",\"value\":0.3},\"top\":{\"type\":\"field\",\"field\":\"processed\"},\"line_color\":{\"type\":\"value\",\"value\":\"deeppink\"},\"fill_color\":{\"type\":\"value\",\"value\":\"deeppink\"},\"hatch_color\":{\"type\":\"value\",\"value\":\"deeppink\"}}},\"nonselection_glyph\":{\"type\":\"object\",\"name\":\"VBar\",\"id\":\"p7199\",\"attributes\":{\"x\":{\"type\":\"field\",\"field\":\"month\",\"transform\":{\"id\":\"p7191\"}},\"width\":{\"type\":\"value\",\"value\":0.3},\"top\":{\"type\":\"field\",\"field\":\"processed\"},\"line_color\":{\"type\":\"value\",\"value\":\"deeppink\"},\"line_alpha\":{\"type\":\"value\",\"value\":0.1},\"fill_color\":{\"type\":\"value\",\"value\":\"deeppink\"},\"fill_alpha\":{\"type\":\"value\",\"value\":0.1},\"hatch_color\":{\"type\":\"value\",\"value\":\"deeppink\"},\"hatch_alpha\":{\"type\":\"value\",\"value\":0.1}}},\"muted_glyph\":{\"type\":\"object\",\"name\":\"VBar\",\"id\":\"p7200\",\"attributes\":{\"x\":{\"type\":\"field\",\"field\":\"month\",\"transform\":{\"id\":\"p7191\"}},\"width\":{\"type\":\"value\",\"value\":0.3},\"top\":{\"type\":\"field\",\"field\":\"processed\"},\"line_color\":{\"type\":\"value\",\"value\":\"deeppink\"},\"line_alpha\":{\"type\":\"value\",\"value\":0.2},\"fill_color\":{\"type\":\"value\",\"value\":\"deeppink\"},\"fill_alpha\":{\"type\":\"value\",\"value\":0.2},\"hatch_color\":{\"type\":\"value\",\"value\":\"deeppink\"},\"hatch_alpha\":{\"type\":\"value\",\"value\":0.2}}}}}],\"toolbar\":{\"type\":\"object\",\"name\":\"Toolbar\",\"id\":\"p7156\",\"attributes\":{\"logo\":null,\"tools\":[{\"type\":\"object\",\"name\":\"PanTool\",\"id\":\"p7169\"},{\"type\":\"object\",\"name\":\"WheelZoomTool\",\"id\":\"p7170\"},{\"type\":\"object\",\"name\":\"BoxZoomTool\",\"id\":\"p7171\",\"attributes\":{\"overlay\":{\"type\":\"object\",\"name\":\"BoxAnnotation\",\"id\":\"p7172\",\"attributes\":{\"syncable\":false,\"level\":\"overlay\",\"visible\":false,\"left_units\":\"canvas\",\"right_units\":\"canvas\",\"bottom_units\":\"canvas\",\"top_units\":\"canvas\",\"line_color\":\"black\",\"line_alpha\":1.0,\"line_width\":2,\"line_dash\":[4,4],\"fill_color\":\"lightgrey\",\"fill_alpha\":0.5}}}},{\"type\":\"object\",\"name\":\"SaveTool\",\"id\":\"p7173\"},{\"type\":\"object\",\"name\":\"ResetTool\",\"id\":\"p7174\"},{\"type\":\"object\",\"name\":\"HelpTool\",\"id\":\"p7175\"}]}},\"toolbar_location\":null,\"left\":[{\"type\":\"object\",\"name\":\"LinearAxis\",\"id\":\"p7164\",\"attributes\":{\"ticker\":{\"type\":\"object\",\"name\":\"BasicTicker\",\"id\":\"p7165\",\"attributes\":{\"mantissas\":[1,2,5]}},\"formatter\":{\"type\":\"object\",\"name\":\"BasicTickFormatter\",\"id\":\"p7166\"},\"major_label_policy\":{\"type\":\"object\",\"name\":\"AllLabels\",\"id\":\"p7167\"}}}],\"below\":[{\"type\":\"object\",\"name\":\"LinearAxis\",\"id\":\"p7159\",\"attributes\":{\"ticker\":{\"type\":\"object\",\"name\":\"BasicTicker\",\"id\":\"p7160\",\"attributes\":{\"mantissas\":[1,2,5]}},\"formatter\":{\"type\":\"object\",\"name\":\"BasicTickFormatter\",\"id\":\"p7161\"},\"major_label_policy\":{\"type\":\"object\",\"name\":\"AllLabels\",\"id\":\"p7162\"}}}],\"center\":[{\"type\":\"object\",\"name\":\"Grid\",\"id\":\"p7163\",\"attributes\":{\"axis\":{\"id\":\"p7159\"}}},{\"type\":\"object\",\"name\":\"Grid\",\"id\":\"p7168\",\"attributes\":{\"dimension\":1,\"axis\":{\"id\":\"p7164\"}}},{\"type\":\"object\",\"name\":\"Legend\",\"id\":\"p7189\",\"attributes\":{\"items\":[{\"type\":\"object\",\"name\":\"LegendItem\",\"id\":\"p7190\",\"attributes\":{\"label\":{\"type\":\"value\",\"value\":\"Ticket Volume Received\"},\"renderers\":[{\"id\":\"p7186\"}]}},{\"type\":\"object\",\"name\":\"LegendItem\",\"id\":\"p7204\",\"attributes\":{\"label\":{\"type\":\"value\",\"value\":\"Ticket Volume Processed\"},\"renderers\":[{\"id\":\"p7201\"}]}}]}}]}}]}};\n  const render_items = [{\"docid\":\"aba2dd2c-a9ff-42a9-8dc7-04525dfbd698\",\"roots\":{\"p7147\":\"b4c49221-f7e5-4f62-bd5a-f601acc11482\"},\"root_ids\":[\"p7147\"]}];\n  root.Bokeh.embed.embed_items_notebook(docs_json, render_items);\n  }\n  if (root.Bokeh !== undefined) {\n    embed_document(root);\n  } else {\n    let attempts = 0;\n    const timer = setInterval(function(root) {\n      if (root.Bokeh !== undefined) {\n        clearInterval(timer);\n        embed_document(root);\n      } else {\n        attempts++;\n        if (attempts > 100) {\n          clearInterval(timer);\n          console.log(\"Bokeh: ERROR: Unable to run BokehJS code because BokehJS library is missing\");\n        }\n      }\n    }, 10, root)\n  }\n})(window);",
      "application/vnd.bokehjs_exec.v0+json": ""
     },
     "metadata": {
      "application/vnd.bokehjs_exec.v0+json": {
       "id": "p7147"
      }
     },
     "output_type": "display_data"
    }
   ],
   "source": [
    "p = figure(title=\"TICKET TREND\", height=400)\n",
    "p.vbar(source=df, x=dodge('month', -0.175, range=p.x_range), top='received', width=0.3, \n",
    "       legend_label=\"Ticket Volume Received\")\n",
    "p.vbar(source=df, x=dodge('month',  0.175, range=p.x_range), top='processed', width=0.3, \n",
    "       color=\"deeppink\", legend_label=\"Ticket Volume Processed\")\n",
    "\n",
    "# remove the toolbar\n",
    "p.toolbar.logo = None\n",
    "p.toolbar_location = None\n",
    "\n",
    "show(p)"
   ]
  },
  {
   "cell_type": "markdown",
   "metadata": {},
   "source": [
    "<div class=\"alert alert-info\">\n",
    "    \n",
    "## 2. Analysis of the original chart\n",
    "</div>"
   ]
  },
  {
   "cell_type": "markdown",
   "metadata": {},
   "source": [
    "### Message\n",
    "\n",
    "<div class=\"alert alert-success\">\n",
    "    \n",
    "Write down the message you want to convey with your chart\n",
    "    \n",
    "</div>"
   ]
  },
  {
   "cell_type": "markdown",
   "metadata": {},
   "source": [
    " <div class=\"alert alert-warning\">\n",
    "\n",
    "I want to show that more workers are needet to process all the incoming tickets. It should be visable that not all tickets can be processed.\n",
    "</div>"
   ]
  },
  {
   "cell_type": "markdown",
   "metadata": {},
   "source": [
    "### Design critique\n",
    "\n",
    "<div class=\"alert alert-success\">\n",
    "   \n",
    "- How good does the current design support the message your trying to make?\n",
    "- Can you spot problems with the current design?\n",
    "    \n",
    "</div>"
   ]
  },
  {
   "cell_type": "markdown",
   "metadata": {},
   "source": [
    "<div class=\"alert alert-warning\">\n",
    "\n",
    "There are is no label on the y axies. The x axies should tell the month name instead of the month number. The bar chart only shows the unsolved tickets per month but not how they accumulate over the year. \n",
    "</div>"
   ]
  },
  {
   "cell_type": "markdown",
   "metadata": {},
   "source": [
    "### Analyze the chart design\n",
    "Now go through each of the elements of the chart and check if the design is suitable. \n",
    "\n",
    "<div class=\"alert alert-success\">\n",
    "    \n",
    "Make a list of all visible elements of the chart and problems with the design.\n",
    "    \n",
    "</div>"
   ]
  },
  {
   "cell_type": "markdown",
   "metadata": {},
   "source": [
    "<div class=\"alert alert-warning\">\n",
    "\n",
    "- The contrast of the colors is unplesand for the eye\n",
    "- The ticks of the x-Achses are not choosen properly. There should be a tick for each month not for every second month\n",
    "- A line chart that shows how the tickets accumulate over time would suport my message better. \n",
    "- The area under the line should be colord\n",
    "</div>"
   ]
  },
  {
   "cell_type": "markdown",
   "metadata": {},
   "source": [
    "<div class=\"alert alert-info\">\n",
    "    \n",
    "## 3. Improved design of helper elements\n",
    "</div>"
   ]
  },
  {
   "cell_type": "markdown",
   "metadata": {},
   "source": [
    "A major problem of the current chart is that it is too cluttered and full of competing information.\n",
    "<div class=\"alert alert-success\">\n",
    "    \n",
    "Improve all chart elements of the list above except for the data representation (bar elements) to achieve a better \"background\" design.\n",
    "\n",
    "</div>"
   ]
  },
  {
   "cell_type": "code",
   "execution_count": 133,
   "metadata": {},
   "outputs": [
    {
     "data": {
      "text/html": [
       "\n",
       "  <div id=\"cd270464-6714-406c-9f7e-140e40fd3198\" data-root-id=\"p7294\" style=\"display: contents;\"></div>\n"
      ]
     },
     "metadata": {},
     "output_type": "display_data"
    },
    {
     "data": {
      "application/javascript": "(function(root) {\n  function embed_document(root) {\n  const docs_json = {\"25e920e9-f03b-4de7-aea6-635263104f0c\":{\"version\":\"3.2.1\",\"title\":\"Bokeh Application\",\"roots\":[{\"type\":\"object\",\"name\":\"Figure\",\"id\":\"p7294\",\"attributes\":{\"height\":400,\"x_range\":{\"type\":\"object\",\"name\":\"DataRange1d\",\"id\":\"p7295\"},\"y_range\":{\"type\":\"object\",\"name\":\"DataRange1d\",\"id\":\"p7296\"},\"x_scale\":{\"type\":\"object\",\"name\":\"LinearScale\",\"id\":\"p7304\"},\"y_scale\":{\"type\":\"object\",\"name\":\"LinearScale\",\"id\":\"p7305\"},\"title\":{\"type\":\"object\",\"name\":\"Title\",\"id\":\"p7297\",\"attributes\":{\"text\":\"TICKET VOLUME\"}},\"renderers\":[{\"type\":\"object\",\"name\":\"GlyphRenderer\",\"id\":\"p7345\",\"attributes\":{\"data_source\":{\"type\":\"object\",\"name\":\"ColumnDataSource\",\"id\":\"p7336\",\"attributes\":{\"selected\":{\"type\":\"object\",\"name\":\"Selection\",\"id\":\"p7337\",\"attributes\":{\"indices\":[],\"line_indices\":[]}},\"selection_policy\":{\"type\":\"object\",\"name\":\"UnionRenderers\",\"id\":\"p7338\"},\"data\":{\"type\":\"map\",\"entries\":[[\"index\",{\"type\":\"ndarray\",\"array\":{\"type\":\"bytes\",\"data\":\"AAAAAAEAAAACAAAAAwAAAAQAAAAFAAAABgAAAAcAAAAIAAAACQAAAAoAAAALAAAA\"},\"shape\":[12],\"dtype\":\"int32\",\"order\":\"little\"}],[\"month\",{\"type\":\"ndarray\",\"array\":{\"type\":\"bytes\",\"data\":\"AAAg8Y8SgMIAAADIkg2AwgAAgDcRCYDCAABgDhQEgMIAAEAwgP5/wgAAAN6F9H/CAACA8d3qf8IAAECf4+B/wgAAAE3p1n/CAACAYEHNf8IAAEAOR8N/wgAAwCGfuX/C\"},\"shape\":[12],\"dtype\":\"float64\",\"order\":\"little\"}],[\"received\",{\"type\":\"ndarray\",\"array\":{\"type\":\"bytes\",\"data\":\"oAAAALgAAADxAAAAlQAAALQAAAChAAAAhAAAAMoAAACgAAAAiwAAAJUAAACxAAAA\"},\"shape\":[12],\"dtype\":\"int32\",\"order\":\"little\"}],[\"processed\",{\"type\":\"ndarray\",\"array\":{\"type\":\"bytes\",\"data\":\"oAAAALgAAADtAAAAlAAAALUAAACWAAAAewAAAJwAAAB+AAAAeQAAAHwAAACMAAAA\"},\"shape\":[12],\"dtype\":\"int32\",\"order\":\"little\"}]]}}},\"view\":{\"type\":\"object\",\"name\":\"CDSView\",\"id\":\"p7346\",\"attributes\":{\"filter\":{\"type\":\"object\",\"name\":\"AllIndices\",\"id\":\"p7347\"}}},\"glyph\":{\"type\":\"object\",\"name\":\"VBar\",\"id\":\"p7342\",\"attributes\":{\"x\":{\"type\":\"field\",\"field\":\"month\",\"transform\":{\"type\":\"object\",\"name\":\"Dodge\",\"id\":\"p7335\",\"attributes\":{\"value\":-408401400.2333722,\"range\":{\"id\":\"p7295\"}}}},\"width\":{\"type\":\"value\",\"value\":700000000},\"top\":{\"type\":\"field\",\"field\":\"received\"},\"line_color\":{\"type\":\"value\",\"value\":\"#1f77b4\"},\"fill_color\":{\"type\":\"value\",\"value\":\"#1f77b4\"}}},\"nonselection_glyph\":{\"type\":\"object\",\"name\":\"VBar\",\"id\":\"p7343\",\"attributes\":{\"x\":{\"type\":\"field\",\"field\":\"month\",\"transform\":{\"id\":\"p7335\"}},\"width\":{\"type\":\"value\",\"value\":700000000},\"top\":{\"type\":\"field\",\"field\":\"received\"},\"line_color\":{\"type\":\"value\",\"value\":\"#1f77b4\"},\"line_alpha\":{\"type\":\"value\",\"value\":0.1},\"fill_color\":{\"type\":\"value\",\"value\":\"#1f77b4\"},\"fill_alpha\":{\"type\":\"value\",\"value\":0.1},\"hatch_alpha\":{\"type\":\"value\",\"value\":0.1}}},\"muted_glyph\":{\"type\":\"object\",\"name\":\"VBar\",\"id\":\"p7344\",\"attributes\":{\"x\":{\"type\":\"field\",\"field\":\"month\",\"transform\":{\"id\":\"p7335\"}},\"width\":{\"type\":\"value\",\"value\":700000000},\"top\":{\"type\":\"field\",\"field\":\"received\"},\"line_color\":{\"type\":\"value\",\"value\":\"#1f77b4\"},\"line_alpha\":{\"type\":\"value\",\"value\":0.2},\"fill_color\":{\"type\":\"value\",\"value\":\"#1f77b4\"},\"fill_alpha\":{\"type\":\"value\",\"value\":0.2},\"hatch_alpha\":{\"type\":\"value\",\"value\":0.2}}}}},{\"type\":\"object\",\"name\":\"GlyphRenderer\",\"id\":\"p7360\",\"attributes\":{\"data_source\":{\"type\":\"object\",\"name\":\"ColumnDataSource\",\"id\":\"p7351\",\"attributes\":{\"selected\":{\"type\":\"object\",\"name\":\"Selection\",\"id\":\"p7352\",\"attributes\":{\"indices\":[],\"line_indices\":[]}},\"selection_policy\":{\"type\":\"object\",\"name\":\"UnionRenderers\",\"id\":\"p7353\"},\"data\":{\"type\":\"map\",\"entries\":[[\"index\",{\"type\":\"ndarray\",\"array\":{\"type\":\"bytes\",\"data\":\"AAAAAAEAAAACAAAAAwAAAAQAAAAFAAAABgAAAAcAAAAIAAAACQAAAAoAAAALAAAA\"},\"shape\":[12],\"dtype\":\"int32\",\"order\":\"little\"}],[\"month\",{\"type\":\"ndarray\",\"array\":{\"type\":\"bytes\",\"data\":\"AAAg8Y8SgMIAAADIkg2AwgAAgDcRCYDCAABgDhQEgMIAAEAwgP5/wgAAAN6F9H/CAACA8d3qf8IAAECf4+B/wgAAAE3p1n/CAACAYEHNf8IAAEAOR8N/wgAAwCGfuX/C\"},\"shape\":[12],\"dtype\":\"float64\",\"order\":\"little\"}],[\"received\",{\"type\":\"ndarray\",\"array\":{\"type\":\"bytes\",\"data\":\"oAAAALgAAADxAAAAlQAAALQAAAChAAAAhAAAAMoAAACgAAAAiwAAAJUAAACxAAAA\"},\"shape\":[12],\"dtype\":\"int32\",\"order\":\"little\"}],[\"processed\",{\"type\":\"ndarray\",\"array\":{\"type\":\"bytes\",\"data\":\"oAAAALgAAADtAAAAlAAAALUAAACWAAAAewAAAJwAAAB+AAAAeQAAAHwAAACMAAAA\"},\"shape\":[12],\"dtype\":\"int32\",\"order\":\"little\"}]]}}},\"view\":{\"type\":\"object\",\"name\":\"CDSView\",\"id\":\"p7361\",\"attributes\":{\"filter\":{\"type\":\"object\",\"name\":\"AllIndices\",\"id\":\"p7362\"}}},\"glyph\":{\"type\":\"object\",\"name\":\"VBar\",\"id\":\"p7357\",\"attributes\":{\"x\":{\"type\":\"field\",\"field\":\"month\",\"transform\":{\"type\":\"object\",\"name\":\"Dodge\",\"id\":\"p7350\",\"attributes\":{\"value\":408401400.2333722,\"range\":{\"id\":\"p7295\"}}}},\"width\":{\"type\":\"value\",\"value\":700000000},\"top\":{\"type\":\"field\",\"field\":\"processed\"},\"line_color\":{\"type\":\"value\",\"value\":\"deeppink\"},\"fill_color\":{\"type\":\"value\",\"value\":\"deeppink\"},\"hatch_color\":{\"type\":\"value\",\"value\":\"deeppink\"}}},\"nonselection_glyph\":{\"type\":\"object\",\"name\":\"VBar\",\"id\":\"p7358\",\"attributes\":{\"x\":{\"type\":\"field\",\"field\":\"month\",\"transform\":{\"id\":\"p7350\"}},\"width\":{\"type\":\"value\",\"value\":700000000},\"top\":{\"type\":\"field\",\"field\":\"processed\"},\"line_color\":{\"type\":\"value\",\"value\":\"deeppink\"},\"line_alpha\":{\"type\":\"value\",\"value\":0.1},\"fill_color\":{\"type\":\"value\",\"value\":\"deeppink\"},\"fill_alpha\":{\"type\":\"value\",\"value\":0.1},\"hatch_color\":{\"type\":\"value\",\"value\":\"deeppink\"},\"hatch_alpha\":{\"type\":\"value\",\"value\":0.1}}},\"muted_glyph\":{\"type\":\"object\",\"name\":\"VBar\",\"id\":\"p7359\",\"attributes\":{\"x\":{\"type\":\"field\",\"field\":\"month\",\"transform\":{\"id\":\"p7350\"}},\"width\":{\"type\":\"value\",\"value\":700000000},\"top\":{\"type\":\"field\",\"field\":\"processed\"},\"line_color\":{\"type\":\"value\",\"value\":\"deeppink\"},\"line_alpha\":{\"type\":\"value\",\"value\":0.2},\"fill_color\":{\"type\":\"value\",\"value\":\"deeppink\"},\"fill_alpha\":{\"type\":\"value\",\"value\":0.2},\"hatch_color\":{\"type\":\"value\",\"value\":\"deeppink\"},\"hatch_alpha\":{\"type\":\"value\",\"value\":0.2}}}}}],\"toolbar\":{\"type\":\"object\",\"name\":\"Toolbar\",\"id\":\"p7303\",\"attributes\":{\"logo\":null,\"tools\":[{\"type\":\"object\",\"name\":\"PanTool\",\"id\":\"p7328\"},{\"type\":\"object\",\"name\":\"WheelZoomTool\",\"id\":\"p7329\"},{\"type\":\"object\",\"name\":\"BoxZoomTool\",\"id\":\"p7330\",\"attributes\":{\"overlay\":{\"type\":\"object\",\"name\":\"BoxAnnotation\",\"id\":\"p7331\",\"attributes\":{\"syncable\":false,\"level\":\"overlay\",\"visible\":false,\"left_units\":\"canvas\",\"right_units\":\"canvas\",\"bottom_units\":\"canvas\",\"top_units\":\"canvas\",\"line_color\":\"black\",\"line_alpha\":1.0,\"line_width\":2,\"line_dash\":[4,4],\"fill_color\":\"lightgrey\",\"fill_alpha\":0.5}}}},{\"type\":\"object\",\"name\":\"SaveTool\",\"id\":\"p7332\"},{\"type\":\"object\",\"name\":\"ResetTool\",\"id\":\"p7333\"},{\"type\":\"object\",\"name\":\"HelpTool\",\"id\":\"p7334\"}]}},\"toolbar_location\":null,\"left\":[{\"type\":\"object\",\"name\":\"LinearAxis\",\"id\":\"p7323\",\"attributes\":{\"ticker\":{\"type\":\"object\",\"name\":\"BasicTicker\",\"id\":\"p7324\",\"attributes\":{\"mantissas\":[1,2,5]}},\"formatter\":{\"type\":\"object\",\"name\":\"BasicTickFormatter\",\"id\":\"p7325\"},\"axis_label\":\"Tickes\",\"major_label_policy\":{\"type\":\"object\",\"name\":\"AllLabels\",\"id\":\"p7326\"}}}],\"below\":[{\"type\":\"object\",\"name\":\"DatetimeAxis\",\"id\":\"p7306\",\"attributes\":{\"ticker\":{\"type\":\"object\",\"name\":\"MonthsTicker\",\"id\":\"p7364\",\"attributes\":{\"months\":[0,1,2,3,4,5,6,7,8,9,10,11]}},\"formatter\":{\"type\":\"object\",\"name\":\"DatetimeTickFormatter\",\"id\":\"p7366\",\"attributes\":{\"months\":\"%b\"}},\"axis_label\":\"Month\",\"major_label_policy\":{\"type\":\"object\",\"name\":\"AllLabels\",\"id\":\"p7321\"}}}],\"center\":[{\"type\":\"object\",\"name\":\"Grid\",\"id\":\"p7322\",\"attributes\":{\"axis\":{\"id\":\"p7306\"},\"ticker\":{\"type\":\"object\",\"name\":\"MonthsTicker\",\"id\":\"p7365\",\"attributes\":{\"months\":[0,1,2,3,4,5,6,7,8,9,10,11]}}}},{\"type\":\"object\",\"name\":\"Grid\",\"id\":\"p7327\",\"attributes\":{\"dimension\":1,\"axis\":{\"id\":\"p7323\"}}},{\"type\":\"object\",\"name\":\"Legend\",\"id\":\"p7348\",\"attributes\":{\"items\":[{\"type\":\"object\",\"name\":\"LegendItem\",\"id\":\"p7349\",\"attributes\":{\"label\":{\"type\":\"value\",\"value\":\"Received  Tickets\"},\"renderers\":[{\"id\":\"p7345\"}]}},{\"type\":\"object\",\"name\":\"LegendItem\",\"id\":\"p7363\",\"attributes\":{\"label\":{\"type\":\"value\",\"value\":\"Processed Tickets\"},\"renderers\":[{\"id\":\"p7360\"}]}}]}}]}}]}};\n  const render_items = [{\"docid\":\"25e920e9-f03b-4de7-aea6-635263104f0c\",\"roots\":{\"p7294\":\"cd270464-6714-406c-9f7e-140e40fd3198\"},\"root_ids\":[\"p7294\"]}];\n  root.Bokeh.embed.embed_items_notebook(docs_json, render_items);\n  }\n  if (root.Bokeh !== undefined) {\n    embed_document(root);\n  } else {\n    let attempts = 0;\n    const timer = setInterval(function(root) {\n      if (root.Bokeh !== undefined) {\n        clearInterval(timer);\n        embed_document(root);\n      } else {\n        attempts++;\n        if (attempts > 100) {\n          clearInterval(timer);\n          console.log(\"Bokeh: ERROR: Unable to run BokehJS code because BokehJS library is missing\");\n        }\n      }\n    }, 10, root)\n  }\n})(window);",
      "application/vnd.bokehjs_exec.v0+json": ""
     },
     "metadata": {
      "application/vnd.bokehjs_exec.v0+json": {
       "id": "p7294"
      }
     },
     "output_type": "display_data"
    }
   ],
   "source": [
    "p = figure(title=\"TICKET VOLUME\", height=400, x_axis_type='datetime')\n",
    "#df['month'] = [datetime.date(1900, x, 1) for x in df['month']]\n",
    "p.vbar(source=df, x=dodge('month', -700000000/1.714, range=p.x_range), top='received', width=700000000, \n",
    "       legend_label=\"Received  Tickets\")\n",
    "p.vbar(source=df, x=dodge('month',  700000000/1.714, range=p.x_range), top='processed', width=700000000, \n",
    "       color=\"deeppink\", legend_label=\"Processed Tickets\")\n",
    "p.xaxis.ticker = MonthsTicker(months=list(range(12))) \n",
    "p.xgrid.ticker = MonthsTicker(months=list(range(12))) \n",
    "p.xaxis.formatter=DatetimeTickFormatter(months=\"%b\")\n",
    "# remove the toolbar\n",
    "p.toolbar.logo = None\n",
    "p.toolbar_location = None\n",
    "\n",
    "p.yaxis.axis_label = \"Tickes\"\n",
    "p.xaxis.axis_label = \"Month\"\n",
    "\n",
    "\n",
    "\n",
    "\n",
    "show(p)"
   ]
  },
  {
   "cell_type": "markdown",
   "metadata": {},
   "source": [
    "<div class=\"alert alert-info\">\n",
    "    \n",
    "## 4. Data Encoding\n",
    "</div>"
   ]
  },
  {
   "cell_type": "markdown",
   "metadata": {},
   "source": [
    "### Marks and channels\n",
    "\n",
    "<div class=\"alert alert-success\"> What are the marks and channels used to encode data? Write down the information as discussed in the lecture. </div>\n"
   ]
  },
  {
   "cell_type": "markdown",
   "metadata": {},
   "source": [
    "<div class=\"alert alert-warning\">\n",
    "\n",
    "Marks\n",
    "- The type of geometry -> in this example bars are used\n",
    "\n",
    "Channels\n",
    "- Colors -> recieved Tickets are blue and processed tickets are 'Pink'\n",
    "- Vertical length and horizontal positions of the bars\n",
    "</div>"
   ]
  },
  {
   "cell_type": "markdown",
   "metadata": {},
   "source": [
    "### Creating new columns\n",
    "\n",
    "The current dataframe only contains the raw data. Often you need to process the data further to obtain suitable input for your data. Read the [ten minutes to pandas](https://pandas.pydata.org/docs/user_guide/10min.html#min) introduction to pandas programming.\n",
    "\n",
    "Now you are able to do the following dataframe operations:"
   ]
  },
  {
   "cell_type": "code",
   "execution_count": 9,
   "metadata": {},
   "outputs": [
    {
     "data": {
      "text/html": [
       "<div>\n",
       "<style scoped>\n",
       "    .dataframe tbody tr th:only-of-type {\n",
       "        vertical-align: middle;\n",
       "    }\n",
       "\n",
       "    .dataframe tbody tr th {\n",
       "        vertical-align: top;\n",
       "    }\n",
       "\n",
       "    .dataframe thead th {\n",
       "        text-align: right;\n",
       "    }\n",
       "</style>\n",
       "<table border=\"1\" class=\"dataframe\">\n",
       "  <thead>\n",
       "    <tr style=\"text-align: right;\">\n",
       "      <th></th>\n",
       "      <th>A</th>\n",
       "      <th>B</th>\n",
       "      <th>A+B</th>\n",
       "      <th>A+1</th>\n",
       "      <th>Size(A)</th>\n",
       "    </tr>\n",
       "  </thead>\n",
       "  <tbody>\n",
       "    <tr>\n",
       "      <th>0</th>\n",
       "      <td>6</td>\n",
       "      <td>9</td>\n",
       "      <td>15</td>\n",
       "      <td>7</td>\n",
       "      <td>M</td>\n",
       "    </tr>\n",
       "    <tr>\n",
       "      <th>1</th>\n",
       "      <td>5</td>\n",
       "      <td>1</td>\n",
       "      <td>6</td>\n",
       "      <td>6</td>\n",
       "      <td>M</td>\n",
       "    </tr>\n",
       "    <tr>\n",
       "      <th>2</th>\n",
       "      <td>5</td>\n",
       "      <td>7</td>\n",
       "      <td>12</td>\n",
       "      <td>6</td>\n",
       "      <td>M</td>\n",
       "    </tr>\n",
       "    <tr>\n",
       "      <th>3</th>\n",
       "      <td>7</td>\n",
       "      <td>9</td>\n",
       "      <td>16</td>\n",
       "      <td>8</td>\n",
       "      <td>M</td>\n",
       "    </tr>\n",
       "    <tr>\n",
       "      <th>4</th>\n",
       "      <td>6</td>\n",
       "      <td>9</td>\n",
       "      <td>15</td>\n",
       "      <td>7</td>\n",
       "      <td>M</td>\n",
       "    </tr>\n",
       "    <tr>\n",
       "      <th>5</th>\n",
       "      <td>5</td>\n",
       "      <td>9</td>\n",
       "      <td>14</td>\n",
       "      <td>6</td>\n",
       "      <td>M</td>\n",
       "    </tr>\n",
       "  </tbody>\n",
       "</table>\n",
       "</div>"
      ],
      "text/plain": [
       "   A  B  A+B  A+1 Size(A)\n",
       "0  6  9   15    7       M\n",
       "1  5  1    6    6       M\n",
       "2  5  7   12    6       M\n",
       "3  7  9   16    8       M\n",
       "4  6  9   15    7       M\n",
       "5  5  9   14    6       M"
      ]
     },
     "execution_count": 9,
     "metadata": {},
     "output_type": "execute_result"
    }
   ],
   "source": [
    "import numpy as np\n",
    "\n",
    "a = [int(i*10) for i in np.random.random(6)]\n",
    "b = [int(i*10) for i in np.random.random(6)]\n",
    "\n",
    "df_test = pd.DataFrame({\"A\": a, \"B\": b})\n",
    "\n",
    "# select a column\n",
    "df_test['A']\n",
    "\n",
    "# create a new column by adding two column\n",
    "df_test['A+B'] = df_test['A'] + df_test['B']\n",
    "\n",
    "# create a new column by applying a function to an existing column\n",
    "df_test['A+1'] = df_test['A'].apply(lambda x: x+1)\n",
    "df_test['Size(A)'] = df_test['A'].apply(lambda x: \"S\" if x < 5 else \"M\")\n",
    "\n",
    "df_test"
   ]
  },
  {
   "cell_type": "markdown",
   "metadata": {},
   "source": [
    "<div class=\"alert alert-success\"> \n",
    "    \n",
    "Use these dataframe operations to create the following columns in the ticket dataframe:\n",
    "- the difference between received and processed tickets\n",
    "- the total number of open tickets, i.e., the sum of all tickets that have not been handled yet. See method [`cumsum()`](https://pandas.pydata.org/pandas-docs/stable/reference/api/pandas.DataFrame.cumsum.html) for a pandas Series.\n",
    "    \n",
    "</div>"
   ]
  },
  {
   "cell_type": "code",
   "execution_count": null,
   "metadata": {},
   "outputs": [],
   "source": []
  },
  {
   "cell_type": "markdown",
   "metadata": {},
   "source": [
    "### Alternative data encodings\n",
    "<div class=\"alert alert-success\"> Now change the presentation of the data. Select two new, suitable chart types for the ticket data. Stick to chart types that use the same x- and y-axis as defined above. Implement (at least) two different data encodings. What is your favorite? </div>"
   ]
  },
  {
   "cell_type": "code",
   "execution_count": null,
   "metadata": {},
   "outputs": [],
   "source": []
  },
  {
   "cell_type": "markdown",
   "metadata": {},
   "source": [
    "<div class=\"alert alert-info\"> \n",
    "    \n",
    "## 5. Revise the chart \n",
    "</div>\n",
    "\n",
    "<div class=\"alert alert-success\"> \n",
    "    \n",
    "Now combine the results from the previous steps and create a final chart that you would send to your boss to ask for additional staff. Also think about adding additional information to your chart with labels etc.\n",
    "</div>"
   ]
  },
  {
   "cell_type": "code",
   "execution_count": null,
   "metadata": {},
   "outputs": [],
   "source": []
  },
  {
   "cell_type": "markdown",
   "metadata": {},
   "source": [
    "**Caption**:"
   ]
  },
  {
   "cell_type": "markdown",
   "metadata": {},
   "source": [
    "As we learned: Each figure needs a caption. <div class=\"alert alert-success\"> Write a caption for your figure. Position it underneath your chart so you can take a screenshot of chart + caption. </div>"
   ]
  },
  {
   "cell_type": "code",
   "execution_count": null,
   "metadata": {},
   "outputs": [],
   "source": []
  }
 ],
 "metadata": {
  "kernelspec": {
   "display_name": "Python 3 (ipykernel)",
   "language": "python",
   "name": "python3"
  },
  "language_info": {
   "codemirror_mode": {
    "name": "ipython",
    "version": 3
   },
   "file_extension": ".py",
   "mimetype": "text/x-python",
   "name": "python",
   "nbconvert_exporter": "python",
   "pygments_lexer": "ipython3",
   "version": "3.11.5"
  }
 },
 "nbformat": 4,
 "nbformat_minor": 4
}
